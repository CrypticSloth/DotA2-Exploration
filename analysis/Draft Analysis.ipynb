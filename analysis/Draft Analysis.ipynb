{
 "cells": [
  {
   "cell_type": "code",
   "execution_count": 2,
   "metadata": {},
   "outputs": [],
   "source": [
    "import numpy as np\n",
    "import json\n",
    "import os"
   ]
  },
  {
   "cell_type": "code",
   "execution_count": 20,
   "metadata": {
    "collapsed": true
   },
   "outputs": [],
   "source": [
    "# Grab the data\n",
    "path = \"C:/Users/Erik/Google Drive (erik.sorensen20@houghton.edu)/DotaAnalysis/versions/7.07d/\"\n",
    "\n",
    "picks_bans = []\n",
    "radiant_wins = []\n",
    "for filename in os.listdir(path):\n",
    "    with open(path + filename,'r') as outfile:\n",
    "        data = json.load(outfile)\n",
    "        picks_bans.append(data['picks_bans'])\n",
    "        radiant_wins.append(data['radiant_win'])"
   ]
  },
  {
   "cell_type": "code",
   "execution_count": 19,
   "metadata": {},
   "outputs": [
    {
     "data": {
      "text/plain": [
       "False"
      ]
     },
     "execution_count": 19,
     "metadata": {},
     "output_type": "execute_result"
    }
   ],
   "source": [
    "data['radiant_win']"
   ]
  },
  {
   "cell_type": "code",
   "execution_count": 14,
   "metadata": {},
   "outputs": [
    {
     "data": {
      "text/plain": [
       "[{'hero_id': 3,\n",
       "  'is_pick': False,\n",
       "  'match_id': 3686916657,\n",
       "  'ord': 0,\n",
       "  'order': 0,\n",
       "  'team': 1},\n",
       " {'hero_id': 19,\n",
       "  'is_pick': False,\n",
       "  'match_id': 3686916657,\n",
       "  'ord': 1,\n",
       "  'order': 1,\n",
       "  'team': 0},\n",
       " {'hero_id': 100,\n",
       "  'is_pick': False,\n",
       "  'match_id': 3686916657,\n",
       "  'ord': 2,\n",
       "  'order': 2,\n",
       "  'team': 1},\n",
       " {'hero_id': 27,\n",
       "  'is_pick': False,\n",
       "  'match_id': 3686916657,\n",
       "  'ord': 3,\n",
       "  'order': 3,\n",
       "  'team': 0},\n",
       " {'hero_id': 34,\n",
       "  'is_pick': False,\n",
       "  'match_id': 3686916657,\n",
       "  'ord': 4,\n",
       "  'order': 4,\n",
       "  'team': 1},\n",
       " {'hero_id': 81,\n",
       "  'is_pick': False,\n",
       "  'match_id': 3686916657,\n",
       "  'ord': 5,\n",
       "  'order': 5,\n",
       "  'team': 0},\n",
       " {'hero_id': 30,\n",
       "  'is_pick': True,\n",
       "  'match_id': 3686916657,\n",
       "  'ord': 6,\n",
       "  'order': 6,\n",
       "  'team': 1},\n",
       " {'hero_id': 51,\n",
       "  'is_pick': True,\n",
       "  'match_id': 3686916657,\n",
       "  'ord': 7,\n",
       "  'order': 7,\n",
       "  'team': 0},\n",
       " {'hero_id': 11,\n",
       "  'is_pick': True,\n",
       "  'match_id': 3686916657,\n",
       "  'ord': 8,\n",
       "  'order': 8,\n",
       "  'team': 0},\n",
       " {'hero_id': 16,\n",
       "  'is_pick': True,\n",
       "  'match_id': 3686916657,\n",
       "  'ord': 9,\n",
       "  'order': 9,\n",
       "  'team': 1},\n",
       " {'hero_id': 61,\n",
       "  'is_pick': False,\n",
       "  'match_id': 3686916657,\n",
       "  'ord': 10,\n",
       "  'order': 10,\n",
       "  'team': 0},\n",
       " {'hero_id': 12,\n",
       "  'is_pick': False,\n",
       "  'match_id': 3686916657,\n",
       "  'ord': 11,\n",
       "  'order': 11,\n",
       "  'team': 1},\n",
       " {'hero_id': 109,\n",
       "  'is_pick': False,\n",
       "  'match_id': 3686916657,\n",
       "  'ord': 12,\n",
       "  'order': 12,\n",
       "  'team': 0},\n",
       " {'hero_id': 77,\n",
       "  'is_pick': False,\n",
       "  'match_id': 3686916657,\n",
       "  'ord': 13,\n",
       "  'order': 13,\n",
       "  'team': 1},\n",
       " {'hero_id': 86,\n",
       "  'is_pick': True,\n",
       "  'match_id': 3686916657,\n",
       "  'ord': 14,\n",
       "  'order': 14,\n",
       "  'team': 0},\n",
       " {'hero_id': 9,\n",
       "  'is_pick': True,\n",
       "  'match_id': 3686916657,\n",
       "  'ord': 15,\n",
       "  'order': 15,\n",
       "  'team': 1},\n",
       " {'hero_id': 60,\n",
       "  'is_pick': True,\n",
       "  'match_id': 3686916657,\n",
       "  'ord': 16,\n",
       "  'order': 16,\n",
       "  'team': 0},\n",
       " {'hero_id': 41,\n",
       "  'is_pick': True,\n",
       "  'match_id': 3686916657,\n",
       "  'ord': 17,\n",
       "  'order': 17,\n",
       "  'team': 1},\n",
       " {'hero_id': 58,\n",
       "  'is_pick': False,\n",
       "  'match_id': 3686916657,\n",
       "  'ord': 18,\n",
       "  'order': 18,\n",
       "  'team': 0},\n",
       " {'hero_id': 54,\n",
       "  'is_pick': False,\n",
       "  'match_id': 3686916657,\n",
       "  'ord': 19,\n",
       "  'order': 19,\n",
       "  'team': 1},\n",
       " {'hero_id': 78,\n",
       "  'is_pick': True,\n",
       "  'match_id': 3686916657,\n",
       "  'ord': 20,\n",
       "  'order': 20,\n",
       "  'team': 1},\n",
       " {'hero_id': 15,\n",
       "  'is_pick': True,\n",
       "  'match_id': 3686916657,\n",
       "  'ord': 21,\n",
       "  'order': 21,\n",
       "  'team': 0}]"
      ]
     },
     "execution_count": 14,
     "metadata": {},
     "output_type": "execute_result"
    }
   ],
   "source": [
    "data['picks_bans']"
   ]
  },
  {
   "cell_type": "code",
   "execution_count": null,
   "metadata": {
    "collapsed": true
   },
   "outputs": [],
   "source": []
  }
 ],
 "metadata": {
  "kernelspec": {
   "display_name": "Python [py3k]",
   "language": "python",
   "name": "Python [py3k]"
  },
  "language_info": {
   "codemirror_mode": {
    "name": "ipython",
    "version": 3
   },
   "file_extension": ".py",
   "mimetype": "text/x-python",
   "name": "python",
   "nbconvert_exporter": "python",
   "pygments_lexer": "ipython3",
   "version": "3.6.2"
  }
 },
 "nbformat": 4,
 "nbformat_minor": 2
}
