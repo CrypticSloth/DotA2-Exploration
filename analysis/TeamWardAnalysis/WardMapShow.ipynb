{
 "cells": [
  {
   "cell_type": "code",
   "execution_count": 8,
   "metadata": {},
   "outputs": [
    {
     "data": {
      "text/html": [
       "<script>requirejs.config({paths: { 'plotly': ['https://cdn.plot.ly/plotly-latest.min']},});if(!window.Plotly) {{require(['plotly'],function(plotly) {window.Plotly=plotly;});}}</script>"
      ],
      "text/vnd.plotly.v1+html": [
       "<script>requirejs.config({paths: { 'plotly': ['https://cdn.plot.ly/plotly-latest.min']},});if(!window.Plotly) {{require(['plotly'],function(plotly) {window.Plotly=plotly;});}}</script>"
      ]
     },
     "metadata": {},
     "output_type": "display_data"
    }
   ],
   "source": [
    "# Plot the ward map using plotly\n",
    "# Eventually make a interactive webpage with dash \n",
    "\n",
    "from plotly import __version__\n",
    "from plotly.offline import init_notebook_mode, plot, iplot\n",
    "import plotly\n",
    "import plotly.graph_objs as go\n",
    "import numpy as np\n",
    "import json\n",
    "import time\n",
    "plotly.offline.init_notebook_mode(connected=True)\n",
    "\n",
    "match = 3944571593\n",
    "with open('../../versions_test/7.17/{:}.json'.format(match), 'r') as json_file:  \n",
    "    data = json.load(json_file)"
   ]
  },
  {
   "cell_type": "code",
   "execution_count": 9,
   "metadata": {},
   "outputs": [],
   "source": [
    "# Get player names\n",
    "player_names = []\n",
    "for i in range(len(data['players'])):\n",
    "    player_names.append(data['players'][i]['personaname'])"
   ]
  },
  {
   "cell_type": "code",
   "execution_count": 10,
   "metadata": {},
   "outputs": [],
   "source": [
    "# Make the dictionaries we will place the data into\n",
    "obs_wards_radiant = {\n",
    "    '1_x':[],\n",
    "    '1_y':[],\n",
    "    '1_time':[],\n",
    "    '2_x':[],\n",
    "    '2_y':[],\n",
    "    '2_time':[],\n",
    "    '3_x':[],\n",
    "    '3_y':[],\n",
    "    '3_time':[],\n",
    "    '4_x':[],\n",
    "    '4_y':[],\n",
    "    '4_time':[],\n",
    "    '5_x':[],\n",
    "    '5_y':[],\n",
    "    '5_time':[]\n",
    "}\n",
    "\n",
    "obs_wards_dire = {\n",
    "    '1_x':[],\n",
    "    '1_y':[],\n",
    "    '1_time':[],\n",
    "    '2_x':[],\n",
    "    '2_y':[],\n",
    "    '2_time':[],\n",
    "    '3_x':[],\n",
    "    '3_y':[],\n",
    "    '3_time':[],\n",
    "    '4_x':[],\n",
    "    '4_y':[],\n",
    "    '4_time':[],\n",
    "    '5_x':[],\n",
    "    '5_y':[],\n",
    "    '5_time':[]\n",
    "}\n",
    "\n",
    "sen_wards_radiant = {\n",
    "    '1_x':[],\n",
    "    '1_y':[],\n",
    "    '1_time':[],\n",
    "    '2_x':[],\n",
    "    '2_y':[],\n",
    "    '2_time':[],\n",
    "    '3_x':[],\n",
    "    '3_y':[],\n",
    "    '3_time':[],\n",
    "    '4_x':[],\n",
    "    '4_y':[],\n",
    "    '4_time':[],\n",
    "    '5_x':[],\n",
    "    '5_y':[],\n",
    "    '5_time':[]\n",
    "}\n",
    "\n",
    "sen_wards_dire = {\n",
    "    '1_x':[],\n",
    "    '1_y':[],\n",
    "    '1_time':[],\n",
    "    '2_x':[],\n",
    "    '2_y':[],\n",
    "    '2_time':[],\n",
    "    '3_x':[],\n",
    "    '3_y':[],\n",
    "    '3_time':[],\n",
    "    '4_x':[],\n",
    "    '4_y':[],\n",
    "    '4_time':[],\n",
    "    '5_x':[],\n",
    "    '5_y':[],\n",
    "    '5_time':[]\n",
    "}\n",
    "\n",
    "# Get ward data for radiant\n",
    "for player in range(5):\n",
    "    for i in range(len(data['players'][player]['obs_left_log'])):\n",
    "        obs_wards_radiant['{:}_x'.format(player+1)].append(data['players'][player]['obs_left_log'][i]['x'])\n",
    "        obs_wards_radiant['{:}_y'.format(player+1)].append(data['players'][player]['obs_left_log'][i]['y'])\n",
    "        obs_wards_radiant['{:}_time'.format(player+1)].append(time.strftime('%M:%S', time.gmtime(data['players'][player]['obs_left_log'][i]['time'])))\n",
    "    for i in range(len(data['players'][player]['sen_left_log'])):\n",
    "        sen_wards_radiant['{:}_x'.format(player+1)].append(data['players'][player]['sen_left_log'][i]['x'])\n",
    "        sen_wards_radiant['{:}_y'.format(player+1)].append(data['players'][player]['sen_left_log'][i]['y'])\n",
    "        sen_wards_radiant['{:}_time'.format(player+1)].append(time.strftime('%M:%S', time.gmtime(data['players'][player]['sen_left_log'][i]['time'])))\n",
    "\n",
    "# Get data for dire\n",
    "for player in range(5,10):\n",
    "    for i in range(len(data['players'][player]['obs_left_log'])):\n",
    "        obs_wards_dire['{:}_x'.format(player-4)].append(data['players'][player]['obs_left_log'][i]['x'])\n",
    "        obs_wards_dire['{:}_y'.format(player-4)].append(data['players'][player]['obs_left_log'][i]['y'])\n",
    "        obs_wards_dire['{:}_time'.format(player-4)].append(time.strftime('%M:%S', time.gmtime(data['players'][player]['obs_left_log'][i]['time'])))\n",
    "    for i in range(len(data['players'][player]['sen_left_log'])):\n",
    "        sen_wards_dire['{:}_x'.format(player-4)].append(data['players'][player]['sen_left_log'][i]['x'])\n",
    "        sen_wards_dire['{:}_y'.format(player-4)].append(data['players'][player]['sen_left_log'][i]['y'])\n",
    "        sen_wards_dire['{:}_time'.format(player-4)].append(time.strftime('%M:%S', time.gmtime(data['players'][player]['sen_left_log'][i]['time'])))\n",
    "\n",
    "traces = []\n",
    "for i in range(5):\n",
    "    if obs_wards_radiant['{:}_x'.format(i+1)] != []:\n",
    "        trace0=go.Scatter(\n",
    "            x=obs_wards_radiant['{:}_x'.format(i+1)],\n",
    "            y=obs_wards_radiant['{:}_y'.format(i+1)],\n",
    "            text='player: {:}'.format(player_names[i]),\n",
    "            mode='markers', \n",
    "            marker = dict(color = \"rgb(98, 244, 66)\")\n",
    "            #. time: {:}'.format(player_names[i],obs_wards_radiant['{:}_time'.format(i+1)])\n",
    "        )\n",
    "    if obs_wards_dire['{:}_x'.format(i+1)] != []:\n",
    "        trace1=go.Scatter(\n",
    "            x=obs_wards_dire['{:}_x'.format(i+1)],\n",
    "            y=obs_wards_dire['{:}_y'.format(i+1)],\n",
    "            text='player: {:}'.format(player_names[i+5]),\n",
    "            mode='markers', \n",
    "            marker = dict(color = \"rgb(98, 244, 66)\")\n",
    "            #. time: {:}'.format(player_names[i+5],obs_wards_radiant['{:}_time'.format(i+1)])\n",
    "        )\n",
    "        traces.append(trace0)\n",
    "        traces.append(trace1)"
   ]
  },
  {
   "cell_type": "code",
   "execution_count": 11,
   "metadata": {},
   "outputs": [
    {
     "data": {
      "application/vnd.plotly.v1+json": {
       "data": [
        {
         "marker": {
          "color": "rgb(98, 244, 66)"
         },
         "mode": "markers",
         "text": "player: Hajadlo",
         "type": "scatter",
         "x": [
          116,
          170,
          168,
          122,
          152,
          114,
          150,
          136,
          132,
          120,
          158,
          166,
          122,
          120,
          168,
          116,
          102,
          118,
          106
         ],
         "y": [
          126,
          102,
          122,
          134,
          114,
          156,
          166,
          146,
          168,
          144,
          136,
          134,
          130,
          144,
          122,
          128,
          154,
          124,
          132
         ]
        },
        {
         "marker": {
          "color": "rgb(98, 244, 66)"
         },
         "mode": "markers",
         "text": "player: sehny",
         "type": "scatter",
         "x": [
          156,
          168,
          158
         ],
         "y": [
          100,
          122,
          128
         ]
        },
        {
         "marker": {
          "color": "rgb(98, 244, 66)"
         },
         "mode": "markers",
         "text": "player: importance of real estate",
         "type": "scatter",
         "x": [
          100,
          152,
          100,
          166
         ],
         "y": [
          168,
          124,
          168,
          120
         ]
        },
        {
         "marker": {
          "color": "rgb(98, 244, 66)"
         },
         "mode": "markers",
         "text": "player: Ruining games",
         "type": "scatter",
         "x": [
          122,
          120,
          88,
          122,
          146,
          114,
          152,
          126,
          126,
          152,
          106,
          136,
          168,
          128,
          122,
          104,
          154,
          118,
          126,
          104,
          144,
          120
         ],
         "y": [
          134,
          136,
          144,
          136,
          98,
          166,
          114,
          142,
          142,
          116,
          156,
          162,
          122,
          142,
          136,
          154,
          116,
          122,
          142,
          154,
          118,
          92
         ]
        }
       ],
       "layout": {
        "height": 750,
        "hovermode": "closest",
        "images": [
         {
          "layer": "below",
          "sizex": 128,
          "sizey": 128,
          "sizing": "stretch",
          "source": "https://raw.githubusercontent.com/SorensenErik/DotA2-Exploration/master/analysis/TeamWardAnalysis/detailed_707.jpg",
          "x": 63,
          "xref": "x",
          "y": 192,
          "yref": "y"
         }
        ],
        "title": "Ward map of match: 3944571593",
        "width": 750,
        "xaxis": {
         "autorange": false,
         "range": [
          63,
          192
         ],
         "showgrid": false,
         "showticklabels": false,
         "ticks": "",
         "zeroline": false
        },
        "yaxis": {
         "autorange": false,
         "range": [
          63,
          192
         ],
         "showgrid": false,
         "showticklabels": false,
         "ticks": "",
         "zeroline": false
        }
       }
      },
      "text/html": [
       "<div id=\"1c727e4b-fe19-4c99-9b49-419037f1aa5c\" style=\"height: 750px; width: 750px;\" class=\"plotly-graph-div\"></div><script type=\"text/javascript\">require([\"plotly\"], function(Plotly) { window.PLOTLYENV=window.PLOTLYENV || {};window.PLOTLYENV.BASE_URL=\"https://plot.ly\";Plotly.newPlot(\"1c727e4b-fe19-4c99-9b49-419037f1aa5c\", [{\"type\": \"scatter\", \"x\": [116, 170, 168, 122, 152, 114, 150, 136, 132, 120, 158, 166, 122, 120, 168, 116, 102, 118, 106], \"y\": [126, 102, 122, 134, 114, 156, 166, 146, 168, 144, 136, 134, 130, 144, 122, 128, 154, 124, 132], \"text\": \"player: Hajadlo\", \"mode\": \"markers\", \"marker\": {\"color\": \"rgb(98, 244, 66)\"}}, {\"type\": \"scatter\", \"x\": [156, 168, 158], \"y\": [100, 122, 128], \"text\": \"player: sehny\", \"mode\": \"markers\", \"marker\": {\"color\": \"rgb(98, 244, 66)\"}}, {\"type\": \"scatter\", \"x\": [100, 152, 100, 166], \"y\": [168, 124, 168, 120], \"text\": \"player: importance of real estate\", \"mode\": \"markers\", \"marker\": {\"color\": \"rgb(98, 244, 66)\"}}, {\"type\": \"scatter\", \"x\": [122, 120, 88, 122, 146, 114, 152, 126, 126, 152, 106, 136, 168, 128, 122, 104, 154, 118, 126, 104, 144, 120], \"y\": [134, 136, 144, 136, 98, 166, 114, 142, 142, 116, 156, 162, 122, 142, 136, 154, 116, 122, 142, 154, 118, 92], \"text\": \"player: Ruining games\", \"mode\": \"markers\", \"marker\": {\"color\": \"rgb(98, 244, 66)\"}}], {\"width\": 750, \"height\": 750, \"hovermode\": \"closest\", \"title\": \"Ward map of match: 3944571593\", \"xaxis\": {\"autorange\": false, \"showgrid\": false, \"zeroline\": false, \"ticks\": \"\", \"showticklabels\": false, \"range\": [63, 192]}, \"yaxis\": {\"autorange\": false, \"showgrid\": false, \"zeroline\": false, \"ticks\": \"\", \"showticklabels\": false, \"range\": [63, 192]}, \"images\": [{\"source\": \"https://raw.githubusercontent.com/SorensenErik/DotA2-Exploration/master/analysis/TeamWardAnalysis/detailed_707.jpg\", \"xref\": \"x\", \"yref\": \"y\", \"x\": 63, \"y\": 192, \"sizex\": 128, \"sizey\": 128, \"sizing\": \"stretch\", \"layer\": \"below\"}]}, {\"showLink\": true, \"linkText\": \"Export to plot.ly\"})});</script>"
      ],
      "text/vnd.plotly.v1+html": [
       "<div id=\"1c727e4b-fe19-4c99-9b49-419037f1aa5c\" style=\"height: 750px; width: 750px;\" class=\"plotly-graph-div\"></div><script type=\"text/javascript\">require([\"plotly\"], function(Plotly) { window.PLOTLYENV=window.PLOTLYENV || {};window.PLOTLYENV.BASE_URL=\"https://plot.ly\";Plotly.newPlot(\"1c727e4b-fe19-4c99-9b49-419037f1aa5c\", [{\"type\": \"scatter\", \"x\": [116, 170, 168, 122, 152, 114, 150, 136, 132, 120, 158, 166, 122, 120, 168, 116, 102, 118, 106], \"y\": [126, 102, 122, 134, 114, 156, 166, 146, 168, 144, 136, 134, 130, 144, 122, 128, 154, 124, 132], \"text\": \"player: Hajadlo\", \"mode\": \"markers\", \"marker\": {\"color\": \"rgb(98, 244, 66)\"}}, {\"type\": \"scatter\", \"x\": [156, 168, 158], \"y\": [100, 122, 128], \"text\": \"player: sehny\", \"mode\": \"markers\", \"marker\": {\"color\": \"rgb(98, 244, 66)\"}}, {\"type\": \"scatter\", \"x\": [100, 152, 100, 166], \"y\": [168, 124, 168, 120], \"text\": \"player: importance of real estate\", \"mode\": \"markers\", \"marker\": {\"color\": \"rgb(98, 244, 66)\"}}, {\"type\": \"scatter\", \"x\": [122, 120, 88, 122, 146, 114, 152, 126, 126, 152, 106, 136, 168, 128, 122, 104, 154, 118, 126, 104, 144, 120], \"y\": [134, 136, 144, 136, 98, 166, 114, 142, 142, 116, 156, 162, 122, 142, 136, 154, 116, 122, 142, 154, 118, 92], \"text\": \"player: Ruining games\", \"mode\": \"markers\", \"marker\": {\"color\": \"rgb(98, 244, 66)\"}}], {\"width\": 750, \"height\": 750, \"hovermode\": \"closest\", \"title\": \"Ward map of match: 3944571593\", \"xaxis\": {\"autorange\": false, \"showgrid\": false, \"zeroline\": false, \"ticks\": \"\", \"showticklabels\": false, \"range\": [63, 192]}, \"yaxis\": {\"autorange\": false, \"showgrid\": false, \"zeroline\": false, \"ticks\": \"\", \"showticklabels\": false, \"range\": [63, 192]}, \"images\": [{\"source\": \"https://raw.githubusercontent.com/SorensenErik/DotA2-Exploration/master/analysis/TeamWardAnalysis/detailed_707.jpg\", \"xref\": \"x\", \"yref\": \"y\", \"x\": 63, \"y\": 192, \"sizex\": 128, \"sizey\": 128, \"sizing\": \"stretch\", \"layer\": \"below\"}]}, {\"showLink\": true, \"linkText\": \"Export to plot.ly\"})});</script>"
      ]
     },
     "metadata": {},
     "output_type": "display_data"
    }
   ],
   "source": [
    "size = 128\n",
    "layout= go.Layout(width=750,\n",
    "                  height=750,\n",
    "                  hovermode= 'closest',\n",
    "                  title=\"Ward map of match: {:}\".format(match),\n",
    "                  xaxis=dict(\n",
    "                      autorange=False,\n",
    "                      showgrid=False,\n",
    "                      zeroline=False,\n",
    "                      ticks='',\n",
    "                      showticklabels=False,\n",
    "                      # coordinates are [63,192]\n",
    "                      range=[63,192],\n",
    "                  ),\n",
    "                  yaxis=dict(\n",
    "                      autorange=False,\n",
    "                      showgrid=False,\n",
    "                      zeroline=False,\n",
    "                      ticks='',\n",
    "                      showticklabels=False,\n",
    "                      range=[63,192]\n",
    "                  ),\n",
    "                  images= [dict(\n",
    "                  source= \"https://raw.githubusercontent.com/SorensenErik/DotA2-Exploration/master/analysis/TeamWardAnalysis/detailed_707.jpg\",\n",
    "                  xref= \"x\",\n",
    "                  yref= \"y\",\n",
    "                  x= 63,\n",
    "                  y= 192,\n",
    "                  sizex= size,\n",
    "                  sizey= size,\n",
    "                  sizing= \"stretch\",\n",
    "                  layer= \"below\")])\n",
    "\n",
    "# Plot to html file\n",
    "fig=go.Figure(data=traces,layout=layout)\n",
    "iplot(fig)"
   ]
  },
  {
   "cell_type": "code",
   "execution_count": null,
   "metadata": {},
   "outputs": [],
   "source": []
  }
 ],
 "metadata": {
  "kernelspec": {
   "display_name": "Python 3",
   "language": "python",
   "name": "python3"
  },
  "language_info": {
   "codemirror_mode": {
    "name": "ipython",
    "version": 3
   },
   "file_extension": ".py",
   "mimetype": "text/x-python",
   "name": "python",
   "nbconvert_exporter": "python",
   "pygments_lexer": "ipython3",
   "version": "3.6.5"
  }
 },
 "nbformat": 4,
 "nbformat_minor": 2
}
