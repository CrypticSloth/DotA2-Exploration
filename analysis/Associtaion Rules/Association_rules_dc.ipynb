{
 "cells": [
  {
   "cell_type": "code",
   "execution_count": 1,
   "metadata": {
    "collapsed": true
   },
   "outputs": [],
   "source": [
    "import pandas as pd\n",
    "import numpy as np\n",
    "import json\n",
    "import os\n",
    "import requests\n",
    "from mlxtend.frequent_patterns import apriori\n",
    "from mlxtend.frequent_patterns import association_rules"
   ]
  },
  {
   "cell_type": "code",
   "execution_count": 2,
   "metadata": {
    "collapsed": true
   },
   "outputs": [],
   "source": [
    "# Grab the data\n",
    "path = \"C:/Users/Erik/Google Drive (erik.sorensen20@houghton.edu)/DotaAnalysis/versions/7.07d/\"\n",
    "\n",
    "picks_bans = []\n",
    "radiant_wins = []\n",
    "for filename in os.listdir(path):\n",
    "    with open(path + filename,'r') as outfile:\n",
    "        data = json.load(outfile)\n",
    "        picks_bans.append(data['picks_bans'])\n",
    "        radiant_wins.append(data['radiant_win'])"
   ]
  },
  {
   "cell_type": "code",
   "execution_count": 3,
   "metadata": {
    "collapsed": true
   },
   "outputs": [],
   "source": [
    "#Drop the team and ord data from picks_ban\n",
    "draft = list(picks_bans)\n",
    "for i in range(len(draft)):\n",
    "    try:\n",
    "        for x in range(len(draft[i])):\n",
    "            del(draft[i][x]['ord'])\n",
    "            #del(draft[i][x]['team'])\n",
    "    except:\n",
    "        continue"
   ]
  },
  {
   "cell_type": "code",
   "execution_count": 4,
   "metadata": {
    "collapsed": true
   },
   "outputs": [],
   "source": [
    "# Combine picks_bans and radiant wins\n",
    "comb = []\n",
    "for i in range(len(picks_bans)):\n",
    "    comb.append([picks_bans[i],radiant_wins[i]])"
   ]
  },
  {
   "cell_type": "code",
   "execution_count": 5,
   "metadata": {
    "collapsed": true
   },
   "outputs": [],
   "source": [
    "#Take out the None's in the data\n",
    "#picks_bans = [x for x in picks_bans if x != None]\n",
    "#radiant_wins = [x for x in radiant_wins if x != None]\n",
    "comb = [x for x in comb if x[0] != None]"
   ]
  },
  {
   "cell_type": "code",
   "execution_count": 6,
   "metadata": {
    "collapsed": true
   },
   "outputs": [],
   "source": [
    "#with open('C:/Users/Erik/Google Drive (erik.sorensen20@houghton.edu)/DotaAnalysis/analysis/PickBans+Win_707d.json','w') as outfile:\n",
    "#\t\t\tjson.dump(comb, outfile)"
   ]
  },
  {
   "cell_type": "code",
   "execution_count": 7,
   "metadata": {
    "scrolled": false
   },
   "outputs": [
    {
     "name": "stdout",
     "output_type": "stream",
     "text": [
      "Percentage of times team 1 (dire?) got first pick: 0.5974\n"
     ]
    }
   ],
   "source": [
    "firstTeam = []\n",
    "[firstTeam.append(x[0][0]['team']) for x in comb]\n",
    "firstTeam = np.array(firstTeam)\n",
    "print(\"Percentage of times team 1 (dire?) got first pick: {:.4f}\".format(np.mean(firstTeam)))"
   ]
  },
  {
   "cell_type": "code",
   "execution_count": 8,
   "metadata": {},
   "outputs": [
    {
     "data": {
      "text/plain": [
       "{'hero_id': 60,\n",
       " 'is_pick': False,\n",
       " 'match_id': 3626698786,\n",
       " 'order': 2,\n",
       " 'team': 1}"
      ]
     },
     "execution_count": 8,
     "metadata": {},
     "output_type": "execute_result"
    }
   ],
   "source": [
    "comb[0][0][2]"
   ]
  },
  {
   "cell_type": "code",
   "execution_count": 9,
   "metadata": {
    "collapsed": true,
    "scrolled": true
   },
   "outputs": [],
   "source": [
    "# We want to convert the picks_bans json file into a 2D data frame where Match_ID is the rows and pick_num is the columns\n",
    "# To do that we need to encode the info in each pick into one string\n",
    "#Eg: Ban/Pick-Hero_Num-Team\n",
    "#Team may not be important or may throw off the association rules (although future analysis it might be interesting analyzing team drafting trends)\n",
    "df = pd.DataFrame(data={'p1':['B19D'],\n",
    "                        'p2':['B107R'],\n",
    "                        'p3':['B60D']})"
   ]
  },
  {
   "cell_type": "code",
   "execution_count": 10,
   "metadata": {},
   "outputs": [
    {
     "data": {
      "text/html": [
       "<div>\n",
       "<style>\n",
       "    .dataframe thead tr:only-child th {\n",
       "        text-align: right;\n",
       "    }\n",
       "\n",
       "    .dataframe thead th {\n",
       "        text-align: left;\n",
       "    }\n",
       "\n",
       "    .dataframe tbody tr th {\n",
       "        vertical-align: top;\n",
       "    }\n",
       "</style>\n",
       "<table border=\"1\" class=\"dataframe\">\n",
       "  <thead>\n",
       "    <tr style=\"text-align: right;\">\n",
       "      <th></th>\n",
       "      <th>p1</th>\n",
       "      <th>p2</th>\n",
       "      <th>p3</th>\n",
       "    </tr>\n",
       "  </thead>\n",
       "  <tbody>\n",
       "    <tr>\n",
       "      <th>0</th>\n",
       "      <td>B19D</td>\n",
       "      <td>B107R</td>\n",
       "      <td>B60D</td>\n",
       "    </tr>\n",
       "  </tbody>\n",
       "</table>\n",
       "</div>"
      ],
      "text/plain": [
       "     p1     p2    p3\n",
       "0  B19D  B107R  B60D"
      ]
     },
     "execution_count": 10,
     "metadata": {},
     "output_type": "execute_result"
    }
   ],
   "source": [
    "df"
   ]
  },
  {
   "cell_type": "code",
   "execution_count": 11,
   "metadata": {
    "collapsed": true
   },
   "outputs": [],
   "source": [
    "\t# Grab current hero data from opendota.api\n",
    "\tpage = requests.get('https://api.opendota.com/api/heroes')\n",
    "\tcontent = page.content\n",
    "\n",
    "\t# Load the json file\n",
    "\theros = json.loads(content)"
   ]
  },
  {
   "cell_type": "code",
   "execution_count": 12,
   "metadata": {
    "collapsed": true
   },
   "outputs": [],
   "source": [
    "comb_with_heros = list(comb)"
   ]
  },
  {
   "cell_type": "code",
   "execution_count": 13,
   "metadata": {
    "collapsed": true
   },
   "outputs": [],
   "source": [
    "for i in comb_with_heros:\n",
    "    for x in i[0]:\n",
    "        #print(x['hero_id'])\n",
    "        #For some reason the hero id 24 is skipped so you need to search for the correct id not just index the list of hero names\n",
    "        x['hero_name'] = [hero['localized_name'] for hero in heros if hero['id'] == x['hero_id']]"
   ]
  },
  {
   "cell_type": "code",
   "execution_count": 14,
   "metadata": {},
   "outputs": [
    {
     "data": {
      "text/plain": [
       "['Bounty Hunter']"
      ]
     },
     "execution_count": 14,
     "metadata": {},
     "output_type": "execute_result"
    }
   ],
   "source": [
    "comb_with_heros[1][0][5]['hero_name']"
   ]
  },
  {
   "cell_type": "code",
   "execution_count": 15,
   "metadata": {
    "collapsed": true
   },
   "outputs": [],
   "source": [
    "with open('C:/Users/Erik/Google Drive (erik.sorensen20@houghton.edu)/DotaAnalysis/analysis/DraftsWithHeros_707d.json','w') as outfile:\n",
    "            json.dump(comb_with_heros, outfile)"
   ]
  },
  {
   "cell_type": "code",
   "execution_count": null,
   "metadata": {
    "collapsed": true
   },
   "outputs": [],
   "source": []
  }
 ],
 "metadata": {
  "kernelspec": {
   "display_name": "Python [py3k]",
   "language": "python",
   "name": "Python [py3k]"
  },
  "language_info": {
   "codemirror_mode": {
    "name": "ipython",
    "version": 3
   },
   "file_extension": ".py",
   "mimetype": "text/x-python",
   "name": "python",
   "nbconvert_exporter": "python",
   "pygments_lexer": "ipython3",
   "version": "3.6.2"
  }
 },
 "nbformat": 4,
 "nbformat_minor": 2
}
